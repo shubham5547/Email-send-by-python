{
 "cells": [
  {
   "cell_type": "code",
   "execution_count": 6,
   "metadata": {},
   "outputs": [
    {
     "name": "stdout",
     "output_type": "stream",
     "text": [
      "send successfully...\n"
     ]
    },
    {
     "data": {
      "text/plain": [
       "'ob.quite()'"
      ]
     },
     "execution_count": 6,
     "metadata": {},
     "output_type": "execute_result"
    }
   ],
   "source": [
    "import smtplib as s\n",
    "object=s.SMTP(\"smtp.gmail.com\",587)\n",
    "'ob.starttls()'\n",
    "'ob.login(\"shubhamsharma.vits@gmail.com\",\"shubham5547\")'\n",
    "subject=\"sending email using python with new code differ from last one\"\n",
    "body=\"this is tutorial of sending email using python script in simple steps\"\n",
    "message=\"subject:{}\\n\\n{}\".format(subject,body)\n",
    "listofaddress=[\"shubhamsharmatcs@gmail.com\",\"shubhamsharma.shubh5547@gmail.com\",\"anujupadhyayvits@gmail.com\"]\n",
    "'ob.sendmail(\"shubhamsharma.vits\",listofaddress,message)'\n",
    "print(\"send successfully...\")\n",
    "'ob.quite()'\n"
   ]
  },
  {
   "cell_type": "code",
   "execution_count": null,
   "metadata": {},
   "outputs": [],
   "source": []
  }
 ],
 "metadata": {
  "kernelspec": {
   "display_name": "Python 3",
   "language": "python",
   "name": "python3"
  },
  "language_info": {
   "codemirror_mode": {
    "name": "ipython",
    "version": 3
   },
   "file_extension": ".py",
   "mimetype": "text/x-python",
   "name": "python",
   "nbconvert_exporter": "python",
   "pygments_lexer": "ipython3",
   "version": "3.7.6"
  }
 },
 "nbformat": 4,
 "nbformat_minor": 4
}
